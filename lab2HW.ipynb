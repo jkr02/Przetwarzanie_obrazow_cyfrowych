{
  "cells": [
    {
      "cell_type": "markdown",
      "source": [
        "# Zadanie domowe\n",
        "\n",
        "W przypadku obrazów w odcieniach szarości pojedynczy piksel z zakresu [0; 255] reprezentowany jest jako 8-bitowa liczba bez znaku.\n",
        "Pewnym rozszerzeniem analizy sposobu reprezentacji obrazu może być następujący eksperyment.\n",
        "Załóżmy, że z każdego z 8 bitów możemy stworzyć pojedynczy obraz binarny (ang. _bit-plane slicing_).\n",
        "Dla obrazka _100zloty.jpg_ (https://raw.githubusercontent.com/vision-agh/poc_sw/master/02_Point/100zloty.jpg) stwórz 8 obrazów, z których każdy powinien zawierać jedną płaszczyznę bitową.\n",
        "Podpowiedź $-$ warto sprawdzić, jak realizuje się bitowe operacje logiczne.\n",
        "Zastosowanie takiej dekompozycji obrazu pozwala na analizę ,,ważności'' poszczególnych bitów.\n",
        "Jest to użyteczne w kwantyzacji, ale także w kompresji.\n",
        "\n",
        "W drugim etapie zadania proszę spróbować odtworzyć obraz oryginalny z mniejszej liczby obrazów binarnych.\n",
        "Warto zacząć od dwóch najbardziej znaczących bitów, a później dodawać kolejne.\n",
        "Należy utworzyć co najmniej trzy wersje zrekonstruowanych obrazów.\n",
        "Podpowiedź $-$ rekonstrukcja obrazu to mnożenie przez odpowiednią potęgę liczby 2 (przesunięcie bitowe) oraz dodawanie."
      ],
      "metadata": {
        "collapsed": false,
        "id": "m5Q2hnDC3NuL"
      }
    },
    {
      "cell_type": "code",
      "source": [
        "import cv2\n",
        "import os\n",
        "import requests\n",
        "import matplotlib.pyplot as plt\n",
        "import numpy as np\n",
        "\n",
        "url = 'https://raw.githubusercontent.com/vision-agh/poc_sw/master/02_Point/'\n",
        "fileName = '100zloty.jpg'\n",
        "if not os.path.exists(fileName) :\n",
        "    r = requests.get(url + fileName, allow_redirects=True)\n",
        "    open(fileName, 'wb').write(r.content)\n",
        "cash = cv2.imread('100zloty.jpg')\n",
        "images = []\n",
        "def only_one_bit(image, n):\n",
        "  image1 = image.copy()\n",
        "  p = 2**n\n",
        "  for i in range(len(image)):\n",
        "    for j in range(len(image[0])):\n",
        "      for k in range(3):\n",
        "        if image[i][j][k] >= p:\n",
        "          image1[i][j][k] = 255\n",
        "  return image1\n",
        "def bit_shift(array, n):\n",
        "  array1 = array.copy()\n",
        "  images.append(((array1 << n) >> 7) * 255)\n",
        "  plt.imshow(images[n])\n",
        "  plt.show()\n",
        "cashes = []\n",
        "for i in range(8):\n",
        "  bit_shift(cash, i)"
      ],
      "metadata": {
        "id": "tsKtFztv4T2l"
      },
      "execution_count": null,
      "outputs": []
    },
    {
      "cell_type": "code",
      "source": [
        "for i in range(1, 8):\n",
        "  photo = images[0] // 255 * 2**7\n",
        "  for j in range(1, i+1):\n",
        "    photo += images[j]// 255 * 2**(7-j)\n",
        "  plt.imshow(photo)\n",
        "  plt.show()"
      ],
      "metadata": {
        "id": "DUdgcAxQ-EJ0"
      },
      "execution_count": null,
      "outputs": []
    }
  ],
  "metadata": {
    "kernelspec": {
      "display_name": "Python 3",
      "name": "python3"
    },
    "language_info": {
      "codemirror_mode": {
        "name": "ipython",
        "version": 2
      },
      "file_extension": ".py",
      "mimetype": "text/x-python",
      "name": "python",
      "nbconvert_exporter": "python",
      "pygments_lexer": "ipython2",
      "version": "2.7.6"
    },
    "colab": {
      "provenance": []
    }
  },
  "nbformat": 4,
  "nbformat_minor": 0
}