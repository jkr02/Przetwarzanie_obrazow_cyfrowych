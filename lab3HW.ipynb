{
  "cells": [
    {
      "cell_type": "markdown",
      "source": [
        "## Zadanie domowe: BBHE i DSIHE\n",
        "\n",
        "W klasycznym wyrównywaniu histogramu HE  po wykonaniu operacji jasność obrazu ulega zmianie.\n",
        "Dało się to zaobserwować podczas przeprowadzonych eksperymentów.\n",
        "Jeśli nie to należy uruchomić skrypt z sekcji A i zwrócić na to uwagę.\n",
        "Średnia jasność dąży do środkowego poziomu szarości.\n",
        "Jest to wada i dlatego klasyczne HE ma ograniczone zastosowanie.\n",
        "\n",
        "Powstało sporo metod, które eliminują to niekorzystne zjawisko.\n",
        "Najprostsze z nich polegają na dekompozycji obrazu wejściowego na dwa podobrazy (wg. pewnego kryterium).\n",
        "Następnie operacja HE wykonywana jest dla tych podobrazów.\n",
        "\n",
        "Dwie znane z literatury metody to:\n",
        "- Bi-Histogram Equalization\n",
        "- DSIHE - Dualistic Sub-Image Histogram Equalization\n",
        "\n",
        "W metodzie BBHE za kryterium podziału przyjmuje się średnią jasność w obrazie.\n",
        "W DSIHE obraz dzieli się na dwa podobrazy o takiej samej liczbie pikseli (jaśniejszych i ciemniejszych).\n",
        "\n",
        "W ramach zadania należy zaimplementować wybraną metodę: BBHE lub DSIHE (ew. obie).\n",
        "\n",
        "1. Wczytaj obraz *jet.bmp* i wylicz jego histogram.\n",
        "2. W kolejnym kroku należy wyznaczyć próg podziału obrazu na dwa podobrazy (*lm*).\n",
        "3. Dla BBHE wyznacz średnią jasność obrazu. Dla DSIHE można wykorzystać histogram skumulowany.\n",
        "Należy znaleźć poziom jasności który znajduje się \"w połowie\" histogramu skumulowanego.\n",
        "W tym celu warto stworzyć tablicę, zawierającą moduł histogramu skumulowanego pomniejszonego o połowę liczby pikseli.\n",
        "Następnie znaleźć minimum - `np.argmin`.\n",
        "4. Dalej należy podzielić histogram oryginalnego obrazu na dwa histogramy *H1* i *H2*.\n",
        "Dla każdego z nich wyliczyć histogram skumulowany ($C_1$ i $C_2$) i wykonać normalizację.\n",
        "Normalizacja polega na podzieleniu każdego histogramu przez jego największy element.\n",
        "5. Na podstawie histogramów skumulowanych należy stworzyć przekształcenie LUT.\n",
        "Należy tak przeskalować $C_1$ i $C_2$, aby uzyskać jednorodne przekształcenie.\n",
        "Tablicę $C_1$ wystarczy pomnożyć przez próg podziału.\n",
        "Tablicę $C_2$ należy przeskalować do przedziału: $<lm+1; 255>$, gdzie $lm$ jest progiem podziału.<br>\n",
        "$C_{1n} = (lm)*C1;$<br>\n",
        "$C_{2n} = lm+1 + (255-lm-1)*C2;$<br>\n",
        "Następnie dwie części tablicy przekodowań należy połączyć.\n",
        "6. Ostatecznie należy wykonać operację LUT i wyświetlić wynik wyrównywania histogramu.\n",
        "Porównaj wynik operacji BBHE lub DSIHE z klasycznym HE."
      ],
      "metadata": {
        "collapsed": false,
        "id": "4Fbe36eKPM0s"
      }
    },
    {
      "cell_type": "code",
      "execution_count": null,
      "outputs": [],
      "source": [
        "import cv2\n",
        "import os\n",
        "import requests\n",
        "from matplotlib import pyplot as plt\n",
        "import numpy as np\n",
        "\n",
        "url = 'https://raw.githubusercontent.com/vision-agh/poc_sw/master/03_Histogram/'\n",
        "fileName = 'jet.bmp'\n",
        "if not os.path.exists(fileName) :\n",
        "    r = requests.get(url + fileName, allow_redirects=True)\n",
        "    open(fileName, 'wb').write(r.content)"
      ],
      "metadata": {
        "pycharm": {
          "name": "#%% Zadanie domowe - BBHE\n"
        },
        "id": "c2Q0bFkqPM0v"
      }
    },
    {
      "cell_type": "code",
      "execution_count": null,
      "outputs": [],
      "source": [
        "jet = cv2.imread('jet.bmp', cv2.IMREAD_GRAYSCALE)\n",
        "fig, ax = plt.subplots(1,2)\n",
        "fig.set_size_inches(20,10)\n",
        "\n",
        "ax[0].imshow(jet, 'gray')\n",
        "histogram = cv2.calcHist([jet], [0], None,  [256], [0, 256])\n",
        "histogram_cumsum = histogram.cumsum()\n",
        "histogram_cumsum_scale = (histogram_cumsum/(np.max(histogram_cumsum)/np.max(histogram)))\n",
        "ax[1].plot(histogram)\n",
        "ax[1].plot(histogram_cumsum_scale)\n",
        "plt.show()"
      ],
      "metadata": {
        "pycharm": {
          "name": "#%% Zadanie domowe - DSIHE\n"
        },
        "id": "KPTV1fMpPM0y"
      }
    },
    {
      "cell_type": "code",
      "source": [
        " # dla BBHE\n",
        "bbhe_lm = int(np.mean(jet))\n",
        "\n",
        " # dla DSIHE\n",
        "polowa = jet.size // 2\n",
        "polowa_histogram_cumsum = np.abs(histogram_cumsum - polowa)\n",
        "dsihe_lm = np.argmin(polowa_histogram_cumsum)\n",
        "\n",
        "def print_image(img, lm, name, histogram):\n",
        "  H1 = histogram[:lm+1]\n",
        "  H2 = histogram[lm+1:]\n",
        "\n",
        "  C1 = np.cumsum(H1)\n",
        "  C2 = np.cumsum(H2)\n",
        "\n",
        "  fig, ax = plt.subplots(1,3)\n",
        "  fig.set_size_inches(35,10)\n",
        "  fig.suptitle(name, size=50)\n",
        "  ax[0].plot((H1/np.max(H1))*255)\n",
        "  ax[0].plot((C1/np.max(C1))*255)\n",
        "  ax[0].set_title('Wykres H1 i C1', size=25)\n",
        "  ax[1].plot((H2/np.max(H2))*255)\n",
        "  ax[1].plot((C2/np.max(C2))*255)\n",
        "  ax[1].set_title('Wykres H2 i C2', size=25)\n",
        "\n",
        "  C1n = (C1 / np.max(C1)) * lm\n",
        "  C2n = (C2 / np.max(C2)) * (255 - lm - 1) + lm + 1\n",
        "\n",
        "  LUT = np.zeros((256,), dtype=np.uint8)\n",
        "  LUT[:lm+1] = C1n\n",
        "  LUT[lm+1:] = C2n\n",
        "\n",
        "  res = cv2.LUT(img, LUT)\n",
        "\n",
        "  ax[2].imshow(res, 'gray')\n",
        "  ax[2].set_title(f\"Obraz {name}\", size=25)\n",
        "  plt.show()\n",
        "print_image(jet, bbhe_lm, 'BBHE', histogram)\n",
        "print_image(jet, dsihe_lm, 'DSIHE', histogram)\n",
        "\n",
        "jet_EH = cv2.equalizeHist(jet)\n",
        "plt.imshow(jet_EH, 'gray')\n",
        "plt.suptitle('HE', size=25)\n",
        "plt.show()"
      ],
      "metadata": {
        "id": "TeoscUt-ARGc"
      },
      "execution_count": null,
      "outputs": []
    }
  ],
  "metadata": {
    "kernelspec": {
      "display_name": "Python 3",
      "language": "python",
      "name": "python3"
    },
    "language_info": {
      "codemirror_mode": {
        "name": "ipython",
        "version": 2
      },
      "file_extension": ".py",
      "mimetype": "text/x-python",
      "name": "python",
      "nbconvert_exporter": "python",
      "pygments_lexer": "ipython2",
      "version": "2.7.6"
    },
    "colab": {
      "provenance": []
    }
  },
  "nbformat": 4,
  "nbformat_minor": 0
}